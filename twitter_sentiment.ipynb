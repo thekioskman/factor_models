{
 "cells": [
  {
   "cell_type": "code",
   "execution_count": null,
   "metadata": {},
   "outputs": [],
   "source": []
  }
 ],
 "metadata": {
  "interpreter": {
   "hash": "d2feefea56b0213a6ec2bb54630eea72d1e2849cc5d96656889c1540b99c0617"
  },
  "kernelspec": {
   "display_name": "Python 3.9.8 ('venv_for_ml': venv)",
   "language": "python",
   "name": "python3"
  },
  "language_info": {
   "name": "python",
   "version": "3.9.8"
  },
  "orig_nbformat": 4
 },
 "nbformat": 4,
 "nbformat_minor": 2
}
